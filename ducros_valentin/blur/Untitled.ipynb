{
 "cells": [
  {
   "cell_type": "code",
   "execution_count": 16,
   "metadata": {},
   "outputs": [],
   "source": [
    "import numpy as np\n",
    "import matplotlib.pyplot as plt\n",
    "from skimage.color import rgb2gray\n",
    "import cv2"
   ]
  },
  {
   "cell_type": "code",
   "execution_count": 40,
   "metadata": {},
   "outputs": [
    {
     "name": "stdout",
     "output_type": "stream",
     "text": [
      "image matrix size:  (627, 1200)\n",
      "\n",
      " First 5 columns and rows of the image matrix: \n",
      " [[148 145 147 144 144]\n",
      " [148 150 148 149 150]\n",
      " [150 151 149 147 147]\n",
      " [149 151 153 152 151]\n",
      " [152 153 155 154 153]]\n"
     ]
    }
   ],
   "source": [
    "import cv2\n",
    "def load_image(image_path):\n",
    "    \"\"\"\n",
    "    Load the image using opencv\n",
    "    :param image_path: <String> Path of input_image\n",
    "    \"\"\"\n",
    "    coloured_image = cv2.imread(image_path)\n",
    "    grey_image = cv2.cvtColor(coloured_image, cv2.COLOR_BGR2GRAY)\n",
    "    print('image matrix size: ', grey_image.shape)\n",
    "    print('\\n First 5 columns and rows of the image matrix: \\n', grey_image[:5, :5])\n",
    "    cv2.imwrite('TopLeft5x5.jpg', grey_image[:5, :5])\n",
    "    return grey_image\n",
    "\n",
    "input_image = load_image('tortue.jpg')"
   ]
  },
  {
   "cell_type": "code",
   "execution_count": 42,
   "metadata": {},
   "outputs": [
    {
     "data": {
      "text/plain": [
       "True"
      ]
     },
     "execution_count": 42,
     "metadata": {},
     "output_type": "execute_result"
    }
   ],
   "source": [
    "def convolve2d(image, kernel):\n",
    "    \"\"\"\n",
    "    This function which takes an image and a kernel and returns the convolution of them.\n",
    "\n",
    "    :param image: a numpy array of size [image_height, image_width].\n",
    "    :param kernel: a numpy array of size [kernel_height, kernel_width].\n",
    "    :return: a numpy array of size [image_height, image_width] (convolution output).\n",
    "    \"\"\"\n",
    "    # Flip the kernel\n",
    "    kernel = np.flipud(np.fliplr(kernel))\n",
    "    # convolution output\n",
    "    output = np.zeros_like(image)\n",
    "\n",
    "    # Add zero padding to the input image\n",
    "    image_padded = np.zeros((image.shape[0] + 2, image.shape[1] + 2))\n",
    "    image_padded[1:-1, 1:-1] = image\n",
    "\n",
    "    # Loop over every pixel of the image\n",
    "    for x in range(image.shape[1]):\n",
    "        for y in range(image.shape[0]):\n",
    "            # element-wise multiplication of the kernel and the image\n",
    "            output[y, x]=(kernel * image_padded[y: y+3, x: x+3]).sum()\n",
    "\n",
    "    return output\n",
    "\n",
    "# kernel to be used to get sharpened image\n",
    "imagegaussianblur = convolve2d(input_image,\n",
    "                         kernel=np.array([[1, 2, 1], [2, 4, 2], [1, 2, 1]])/16.0)\n",
    "cv2.imwrite('gaussian_blur.jpg', imagegaussianblur)"
   ]
  },
  {
   "cell_type": "code",
   "execution_count": null,
   "metadata": {},
   "outputs": [],
   "source": []
  }
 ],
 "metadata": {
  "kernelspec": {
   "display_name": "Python 3",
   "language": "python",
   "name": "python3"
  },
  "language_info": {
   "codemirror_mode": {
    "name": "ipython",
    "version": 3
   },
   "file_extension": ".py",
   "mimetype": "text/x-python",
   "name": "python",
   "nbconvert_exporter": "python",
   "pygments_lexer": "ipython3",
   "version": "3.7.7"
  }
 },
 "nbformat": 4,
 "nbformat_minor": 4
}
