{
 "cells": [
  {
   "cell_type": "code",
   "execution_count": 1,
   "metadata": {},
   "outputs": [],
   "source": [
    "import requests\n",
    "import numpy as np\n",
    "import cv2\n",
    "from urllib.parse import urlparse\n",
    "import urllib.request\n",
    "\n",
    "image_url = \"test1.jpg\"  # URL de l'image à analyser\n",
    "# On fait la requete au serveur Flask et on récupère la réponse\n",
    "r = requests.get('http://127.0.0.1:5000/predict?image=' + image_url)\n",
    "\n",
    "# Permet de charger une image depuis une URL\n",
    "def url_to_img(url):\n",
    "    resp = urllib.request.urlopen(url)\n",
    "    img = np.asarray(bytearray(resp.read()), dtype=\"uint8\")\n",
    "    return cv2.imdecode(img, cv2.IMREAD_COLOR)\n",
    "\n",
    "# Affiche les visages reconnus\n",
    "def show_faces(faces, img):\n",
    "    # On dessine les rectanges autour des visages\n",
    "    for (x, y, w, h) in faces:\n",
    "        cv2.rectangle(img, (x, y), (x+w, y+h), (255, 0, 0), 2)\n",
    "\n",
    "    cv2.imshow('img', img)  # On affiche la sortie\n",
    "    cv2.waitKey()  # On attend une touche pour fermer\n",
    "\n",
    "# On vérifie si l'URL est locale ou HTTP\n",
    "parsed_uri = urlparse(image_url)\n",
    "scheme = '{uri.scheme}'.format(uri=parsed_uri)\n",
    "if scheme == \"http\" or scheme == \"https\":\n",
    "    img = url_to_img(image_url)  # On télécharge l'image\n",
    "else:\n",
    "    img = cv2.imread(image_url)  # On charge l'image    \n",
    "\n",
    "# On convertis la réponse en ndarray (pour l'affichage)\n",
    "faces = np.asarray(eval(r.text))\n",
    "show_faces(faces, img)  # On affiche"
   ]
  }
 ],
 "metadata": {
  "kernelspec": {
   "display_name": "Python 3",
   "language": "python",
   "name": "python3"
  },
  "language_info": {
   "codemirror_mode": {
    "name": "ipython",
    "version": 3
   },
   "file_extension": ".py",
   "mimetype": "text/x-python",
   "name": "python",
   "nbconvert_exporter": "python",
   "pygments_lexer": "ipython3",
   "version": "3.8.6"
  }
 },
 "nbformat": 4,
 "nbformat_minor": 4
}
