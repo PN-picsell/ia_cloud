{
 "cells": [
  {
   "cell_type": "code",
   "execution_count": 11,
   "metadata": {},
   "outputs": [],
   "source": [
    "from flask import Flask, request, flash, redirect, url_for\n",
    "import json\n",
    "import cv2\n",
    "import numpy as np\n",
    "from urllib.request import urlopen"
   ]
  },
  {
   "cell_type": "code",
   "execution_count": null,
   "metadata": {},
   "outputs": [
    {
     "name": "stdout",
     "output_type": "stream",
     "text": [
      " * Serving Flask app \"__main__\" (lazy loading)\n",
      " * Environment: production\n",
      "   WARNING: This is a development server. Do not use it in a production deployment.\n",
      "   Use a production WSGI server instead.\n",
      " * Debug mode: off\n"
     ]
    },
    {
     "name": "stderr",
     "output_type": "stream",
     "text": [
      " * Running on http://127.0.0.1:5000/ (Press CTRL+C to quit)\n",
      "127.0.0.1 - - [18/Nov/2020 14:06:52] \"\u001b[37mGET / HTTP/1.1\u001b[0m\" 200 -\n",
      "127.0.0.1 - - [18/Nov/2020 14:07:05] \"\u001b[37mGET /detectFacesFromUpload HTTP/1.1\u001b[0m\" 200 -\n",
      "127.0.0.1 - - [18/Nov/2020 14:07:34] \"\u001b[37mPOST /detectFacesFromUpload HTTP/1.1\u001b[0m\" 200 -\n",
      "127.0.0.1 - - [18/Nov/2020 14:07:35] \"\u001b[37mGET /detectFacesFromUpload HTTP/1.1\u001b[0m\" 200 -\n",
      "127.0.0.1 - - [18/Nov/2020 14:07:41] \"\u001b[37mPOST /detectFacesFromUpload HTTP/1.1\u001b[0m\" 200 -\n"
     ]
    },
    {
     "name": "stdout",
     "output_type": "stream",
     "text": [
      "[{'top': 197, 'left': 121, 'width': 107, 'heignt': 107}]\n",
      "[{'top': 197, 'left': 121, 'width': 107, 'heignt': 107}, {'top': 539, 'left': 167, 'width': 73, 'heignt': 73}]\n"
     ]
    },
    {
     "name": "stderr",
     "output_type": "stream",
     "text": [
      "127.0.0.1 - - [18/Nov/2020 14:09:56] \"\u001b[37mGET /detectFacesFromUrl?url=http://lorempixel.com/output/people-q-c-500-500-2.jpg HTTP/1.1\u001b[0m\" 200 -\n",
      "127.0.0.1 - - [18/Nov/2020 14:10:28] \"\u001b[37mGET //detectFacesFromUpload HTTP/1.1\u001b[0m\" 200 -\n",
      "127.0.0.1 - - [18/Nov/2020 14:10:33] \"\u001b[33mGET /.detectFacesFromUpload HTTP/1.1\u001b[0m\" 404 -\n",
      "127.0.0.1 - - [18/Nov/2020 14:10:36] \"\u001b[37mGET //detectFacesFromUrl?url=http://lorempixel.com/output/people-q-c-500-500-2.jpg HTTP/1.1\u001b[0m\" 200 -\n"
     ]
    }
   ],
   "source": [
    "ace_cascade = cv2.CascadeClassifier('haar/haarcascade_frontalface.xml')\n",
    "\n",
    "\n",
    "def allowed_file(filename):\n",
    "    return '.' in filename and \\\n",
    "           filename.rsplit('.', 1)[1].lower() in {'png', 'jpg', 'jpeg', 'gif'}\n",
    "\n",
    "def convert(o):\n",
    "    if isinstance(o, int32): return int(o)  \n",
    "    raise TypeError\n",
    "\n",
    "def DetectionOpenCV(img):\n",
    "    gray = cv2.cvtColor(img, cv2.COLOR_BGR2GRAY)\n",
    "    faces = face_cascade.detectMultiScale(gray, 1.1, 4)\n",
    "\n",
    "    allFaces = []\n",
    "\n",
    "    for (x, y, w, h) in faces:\n",
    "        data = {\n",
    "            \"top\": int(x),\n",
    "            \"left\": int(y),\n",
    "            \"width\": int(w),\n",
    "            \"heignt\" : int(h)\n",
    "        }\n",
    "        \n",
    "        allFaces.append(data)\n",
    "        print(allFaces)\n",
    "    return allFaces\n",
    "\n",
    "\n",
    "def LoadImageFromUrl(url):\n",
    "    resp = urlopen(url)\n",
    "    image = np.asarray(bytearray(resp.read()), dtype=\"uint8\")\n",
    "    img = cv2.imdecode(image, cv2.IMREAD_COLOR)\n",
    "    # Load the cascade\n",
    "    return DetectionOpenCV(img)\n",
    "\n",
    "def LoadImageFromFile():\n",
    "    inputName = 'famtest.jpg'\n",
    "    img = cv2.imread(inputName)\n",
    "\n",
    "    return DetectionOpenCV(img)\n",
    "\n",
    "app = Flask(__name__)\n",
    "\n",
    "@app.route(\"/\")\n",
    "def hello():\n",
    "  return \"Hello World!\"\n",
    "\n",
    "@app.route(\"/detectFacesFromFile\")\n",
    "def detectFacesFile():\n",
    "    return json.dumps(LoadImageFromFile(), default=convert)\n",
    "\n",
    "\n",
    "@app.route(\"/detectFacesFromUrl\")\n",
    "def detectFacesUrl():\n",
    "    return json.dumps(LoadImageFromUrl(request.args.get(\"url\")), default=convert)\n",
    "\n",
    "@app.route('/detectFacesFromUpload', methods=['GET', 'POST'])\n",
    "def detectFacesUpload():\n",
    "    if request.method == 'POST':\n",
    "        if 'file' not in request.files:\n",
    "            return redirect(request.url)\n",
    "        file = request.files['file']\n",
    "        if file.filename == '':\n",
    "            return redirect(request.url)\n",
    "        if file and allowed_file(file.filename):\n",
    "            img = cv2.imdecode(np.frombuffer(file.read(), np.uint8), cv2.IMREAD_UNCHANGED)\n",
    "            return json.dumps(DetectionOpenCV(img), default=convert)\n",
    "    return '''\n",
    "        <!doctype html>\n",
    "        <title>Upload new File</title>\n",
    "        <h1>Upload new File</h1>\n",
    "        <form method=post enctype=multipart/form-data>\n",
    "        <input type=file name=file>\n",
    "        <input type=submit value=Upload>\n",
    "        </form>\n",
    "    '''\n",
    "\n",
    "if __name__ == \"__main__\":\n",
    "  app.run()"
   ]
  },
  {
   "cell_type": "code",
   "execution_count": null,
   "metadata": {},
   "outputs": [],
   "source": []
  },
  {
   "cell_type": "code",
   "execution_count": null,
   "metadata": {},
   "outputs": [],
   "source": []
  },
  {
   "cell_type": "code",
   "execution_count": null,
   "metadata": {},
   "outputs": [],
   "source": []
  },
  {
   "cell_type": "code",
   "execution_count": 3,
   "metadata": {},
   "outputs": [
    {
     "data": {
      "text/plain": [
       "-1"
      ]
     },
     "execution_count": 3,
     "metadata": {},
     "output_type": "execute_result"
    }
   ],
   "source": [
    "import cv2\n",
    "\n",
    "face_cascade = cv2.CascadeClassifier('faces.xml')\n",
    "inputName = 'famtest.jpg'\n",
    "\n",
    "img = cv2.imread(inputName)\n",
    "gray = cv2.cvtColor(img, cv2.COLOR_BGR2GRAY)\n",
    "\n",
    "faces = face_cascade.detectMultiScale(gray, 1.1, 4)\n",
    "for (x, y, w, h) in faces:\n",
    "    cv2.rectangle(img, (x, y), (x+w, y+h), (255, 0, 0), 2)\n",
    "    cv2.putText(img, str(x) + \",\" + str(y)+ \",\" + str(x+w)+ \",\" + str(y+h),(x, y-10), cv2.FONT_HERSHEY_SIMPLEX, 0.4, (0, 0, 0), 1)\n",
    "\n",
    "cv2.imshow('img', img)\n",
    "cv2.waitKey()"
   ]
  },
  {
   "cell_type": "code",
   "execution_count": null,
   "metadata": {},
   "outputs": [],
   "source": []
  }
 ],
 "metadata": {
  "kernelspec": {
   "display_name": "Python 3",
   "language": "python",
   "name": "python3"
  },
  "language_info": {
   "codemirror_mode": {
    "name": "ipython",
    "version": 3
   },
   "file_extension": ".py",
   "mimetype": "text/x-python",
   "name": "python",
   "nbconvert_exporter": "python",
   "pygments_lexer": "ipython3",
   "version": "3.8.3"
  }
 },
 "nbformat": 4,
 "nbformat_minor": 4
}
