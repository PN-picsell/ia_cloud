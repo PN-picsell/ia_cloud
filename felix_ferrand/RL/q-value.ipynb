{
 "metadata": {
  "language_info": {
   "codemirror_mode": {
    "name": "ipython",
    "version": 3
   },
   "file_extension": ".py",
   "mimetype": "text/x-python",
   "name": "python",
   "nbconvert_exporter": "python",
   "pygments_lexer": "ipython3",
   "version": "3.7.9-final"
  },
  "orig_nbformat": 2,
  "kernelspec": {
   "name": "python3",
   "display_name": "Python 3"
  }
 },
 "nbformat": 4,
 "nbformat_minor": 2,
 "cells": [
  {
   "cell_type": "code",
   "execution_count": 28,
   "metadata": {},
   "outputs": [
    {
     "output_type": "stream",
     "name": "stdout",
     "text": [
      "1\n2\n0\n"
     ]
    }
   ],
   "source": [
    "import numpy as np\n",
    "nan = np.nan\n",
    "\n",
    "# 0 = work\n",
    "# 1 = sleep\n",
    "# 2 = gym\n",
    "actions = [\n",
    "    [0, 1, 2], # tired\n",
    "    [0, 2],    # energetic\n",
    "    [0]        # healthier\n",
    "]\n",
    "\n",
    "PT = np.array([\n",
    "    [[1.0, 0.0, 0.0], [0.2, 0.8, 0.0], [0.5, 0.5, 0.0]], # tired\n",
    "    [[0.8, 0.2, 0.0], [nan, nan, nan], [0.0, 0.0, 1.0]], # energetic\n",
    "    [[1.0, 0.0, 0.0], [nan, nan, nan], [nan, nan, nan]]  # healthier\n",
    "])\n",
    "\n",
    "R = np.array([\n",
    "    [[20, 0, 0],  [0, 0, 0],       [-10, -10, 0]],   # tired\n",
    "    [[40, 30, 0], [nan, nan, nan], [0, 0, -10]],     # energetic\n",
    "    [[100, 0, 0], [nan, nan, nan], [nan, nan, nan]]  # healthier\n",
    "])\n",
    "\n",
    "Q = np.full((3,3), -np.inf)\n",
    "\n",
    "for i,a in enumerate(actions):\n",
    "    Q[i,a] = 0\n",
    "\n",
    "discount = 0.99\n",
    "iterations = 1000\n",
    "\n",
    "for i in range(iterations):\n",
    "    Q_previous = Q.copy()\n",
    "    for s in range(len(PT)):\n",
    "        for a in actions[s]:\n",
    "            sum_v = 0\n",
    "            for s_next in range(len(PT)):\n",
    "                sum_v += PT[s, a, s_next] * (R[s, a, s_next] + discount * np.max(Q_previous[s_next]))\n",
    "            Q[s,a] = sum_v\n",
    "\n",
    "for e in Q:\n",
    "    print(np.argmax(e))"
   ]
  }
 ]
}