{
 "metadata": {
  "language_info": {
   "codemirror_mode": {
    "name": "ipython",
    "version": 3
   },
   "file_extension": ".py",
   "mimetype": "text/x-python",
   "name": "python",
   "nbconvert_exporter": "python",
   "pygments_lexer": "ipython3",
   "version": "3.7.9-final"
  },
  "orig_nbformat": 2,
  "kernelspec": {
   "name": "python3",
   "display_name": "Python 3"
  }
 },
 "nbformat": 4,
 "nbformat_minor": 2,
 "cells": [
  {
   "cell_type": "code",
   "execution_count": 37,
   "metadata": {},
   "outputs": [],
   "source": [
    "import markovify"
   ]
  },
  {
   "cell_type": "code",
   "execution_count": 39,
   "metadata": {},
   "outputs": [
    {
     "output_type": "stream",
     "name": "stdout",
     "text": [
      "Par le biais des Ã©tiquettes virtuelles, lâ€™acheteur peut prendre connaissance des prix pratiquÃ©s sur les diffÃ©rents modÃ¨les de meubles dâ€™occasion.\nEn effet, le facteur le plus important pour vendre un meuble dâ€™occasion ? Ce sont les premiÃ¨res questions Ã se poser.\nCela permet de rassurer lâ€™acheteur et justifie le prix de vente est le bon ? Combien vendre un meuble dâ€™occasion, il suffit de lancer son vide-appartement !\nComment estimer un meuble dâ€™occasion est le prix.\nPar le biais des Ã©tiquettes virtuelles, lâ€™acheteur peut prendre connaissance des prix pratiquÃ©s sur les diffÃ©rents modÃ¨les de meubles dâ€™occasion.\n"
     ]
    }
   ],
   "source": [
    "with open(\"corpus.txt\") as f:\n",
    "    text = f.read()\n",
    "    \n",
    "    text_model = markovify.Text(text, state_size = 3)\n",
    "\n",
    "for i in range(5):\n",
    "    print(text_model.make_short_sentence(255))"
   ]
  }
 ]
}