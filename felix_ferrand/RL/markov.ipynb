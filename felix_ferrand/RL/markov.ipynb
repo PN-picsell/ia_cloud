{
 "metadata": {
  "language_info": {
   "codemirror_mode": {
    "name": "ipython",
    "version": 3
   },
   "file_extension": ".py",
   "mimetype": "text/x-python",
   "name": "python",
   "nbconvert_exporter": "python",
   "pygments_lexer": "ipython3",
   "version": "3.7.9-final"
  },
  "orig_nbformat": 2,
  "kernelspec": {
   "name": "python3",
   "display_name": "Python 3"
  }
 },
 "nbformat": 4,
 "nbformat_minor": 2,
 "cells": [
  {
   "cell_type": "code",
   "execution_count": 39,
   "metadata": {},
   "outputs": [],
   "source": [
    "import random\n",
    "\n",
    "ee = 0.1\n",
    "ea = 0.8\n",
    "et = 0.1\n",
    "\n",
    "aa = 0.1\n",
    "ae = 0.3\n",
    "at = 0.6\n",
    "\n",
    "tt = 0.1\n",
    "te = 0.8\n",
    "ta = 0.1"
   ]
  },
  {
   "cell_type": "code",
   "execution_count": 40,
   "metadata": {},
   "outputs": [],
   "source": [
    "def createWord():\n",
    "    word = \"\"\n",
    "    currentLetter = \"\"\n",
    "\n",
    "    for m in range(3):\n",
    "        x = random.uniform(0,1)\n",
    "\n",
    "        if currentLetter == \"e\":\n",
    "            if x <= ee:\n",
    "                word += \"e\"\n",
    "                currentLetter = \"e\"\n",
    "            elif x <= (ee + ea):\n",
    "                word += \"a\"\n",
    "                currentLetter = \"a\"\n",
    "            else:\n",
    "                word += \"t\"\n",
    "                currentLetter = \"t\"\n",
    "\n",
    "        elif currentLetter == \"a\":\n",
    "            if x <= ae:\n",
    "                word += \"e\"\n",
    "                currentLetter = \"e\"\n",
    "            elif x <= (ae + aa):\n",
    "                word += \"a\"\n",
    "                currentLetter = \"a\"\n",
    "            else:\n",
    "                word += \"t\"\n",
    "                currentLetter = \"t\"\n",
    "            \n",
    "        elif currentLetter == \"t\":\n",
    "            if x <= te:\n",
    "                word += \"e\"\n",
    "                currentLetter = \"e\"\n",
    "            elif x <= (te + ta):\n",
    "                word += \"a\"\n",
    "                currentLetter = \"a\"\n",
    "            else:\n",
    "                word += \"t\"\n",
    "                currentLetter = \"t\"\n",
    "            \n",
    "        else:\n",
    "            if x <= (1/3):\n",
    "                word += \"e\"\n",
    "                currentLetter = \"e\"\n",
    "            elif x <= (2/3):\n",
    "                word += \"a\"\n",
    "                currentLetter = \"a\"\n",
    "            else:\n",
    "                word += \"t\"\n",
    "                currentLetter = \"t\"\n",
    "    return word"
   ]
  },
  {
   "cell_type": "code",
   "execution_count": 38,
   "metadata": {
    "tags": []
   },
   "outputs": [
    {
     "output_type": "stream",
     "name": "stdout",
     "text": [
      "eat = 16.005%\nate = 13.468%\ntea = 14.754000000000001%\n"
     ]
    }
   ],
   "source": [
    "createWord()\n",
    "\n",
    "eatNb = 0\n",
    "ateNb = 0\n",
    "teaNb = 0\n",
    "\n",
    "words = 1000000\n",
    "\n",
    "for n in range(words):\n",
    "    if createWord() == \"eat\":\n",
    "        eatNb += 1\n",
    "    elif createWord() == \"ate\":\n",
    "        ateNb += 1\n",
    "    elif createWord() == \"tea\":\n",
    "        teaNb += 1\n",
    "\n",
    "print(\"eat = \" + str(eatNb/words*100) + \"%\")\n",
    "print(\"ate = \" + str(ateNb/words*100) + \"%\")\n",
    "print(\"tea = \" + str(teaNb/words*100) + \"%\")"
   ]
  }
 ]
}