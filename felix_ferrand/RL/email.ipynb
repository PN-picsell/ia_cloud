{
 "metadata": {
  "language_info": {
   "codemirror_mode": {
    "name": "ipython",
    "version": 3
   },
   "file_extension": ".py",
   "mimetype": "text/x-python",
   "name": "python",
   "nbconvert_exporter": "python",
   "pygments_lexer": "ipython3",
   "version": "3.7.9-final"
  },
  "orig_nbformat": 2,
  "kernelspec": {
   "name": "python3",
   "display_name": "Python 3"
  }
 },
 "nbformat": 4,
 "nbformat_minor": 2,
 "cells": [
  {
   "cell_type": "code",
   "execution_count": 121,
   "metadata": {},
   "outputs": [
    {
     "output_type": "stream",
     "name": "stderr",
     "text": [
      "Using custom data configuration default\n",
      "Reusing dataset aeslc (C:\\Users\\felix\\.cache\\huggingface\\datasets\\aeslc\\default\\1.0.0\\0f335d7ea7f9ab9e325673a86c6aa0e2cd503c5dbf17d48fddcb02840a92fc96)\n"
     ]
    }
   ],
   "source": [
    "import numpy as np\n",
    "from datasets import load_dataset\n",
    "import re, unidecode, string, random\n",
    "\n",
    "dataset = load_dataset(\"aeslc\")"
   ]
  },
  {
   "cell_type": "code",
   "execution_count": 122,
   "metadata": {
    "tags": []
   },
   "outputs": [],
   "source": [
    "corpus = []\n",
    "for line in dataset['train']:\n",
    "    corpus.append(line['email_body'])\n",
    "\n",
    "corpus = \" \".join(corpus)\n",
    "corpus = re.sub(' +', ' ', re.sub('[^a-z ]', ' ', unidecode.unidecode(corpus).lower()))"
   ]
  },
  {
   "cell_type": "code",
   "execution_count": 138,
   "metadata": {},
   "outputs": [],
   "source": [
    "PT = np.full((27,27), 0)\n",
    "charset = ['a','b','c','d','e','f','g','h','i','j','k','l','m','n','o','p','q','r','s','t','u','v','w','x','y','z',' ']\n",
    "\n",
    "corpus_size = 10000\n",
    "corpus = corpus[0:corpus_size]\n",
    "\n",
    "for char in charset:\n",
    "    for next_char in charset:\n",
    "        pair = char + next_char\n",
    "        # detection du nombre de pairs\n",
    "        pairs_found = sum(1 for i in range(len(corpus)) if corpus.startswith(pair, i))\n",
    "        PT[charset.index(char), charset.index(next_char)] += pairs_found\n",
    "\n",
    "# for i in range(len(charset)):\n",
    "#     print(charset[i] + \" : \" + charset[np.argmax(PT[i,:])])"
   ]
  },
  {
   "cell_type": "code",
   "execution_count": 152,
   "metadata": {
    "tags": []
   },
   "outputs": [
    {
     "output_type": "stream",
     "name": "stdout",
     "text": [
      "oa\noaa\noaaa\noaaaa\noaaaaa\noaaaaaa\noaaaaaaa\noaaaaaaaa\noaaaaaaaaa\noaaaaaaaaaa\noaaaaaaaaaaa\noaaaaaaaaaaaa\noaaaaaaaaaaaaa\noaaaaaaaaaaaaaa\noaaaaaaaaaaaaaaa\noaaaaaaaaaaaaaaaa\noaaaaaaaaaaaaaaaaa\noaaaaaaaaaaaaaaaaaa\noaaaaaaaaaaaaaaaaaaa\noaaaaaaaaaaaaaaaaaaaa\noaaaaaaaaaaaaaaaaaaaaa\noaaaaaaaaaaaaaaaaaaaaaa\noaaaaaaaaaaaaaaaaaaaaaaa\noaaaaaaaaaaaaaaaaaaaaaaaa\noaaaaaaaaaaaaaaaaaaaaaaaaa\noaaaaaaaaaaaaaaaaaaaaaaaaaa\noaaaaaaaaaaaaaaaaaaaaaaaaaaa\noaaaaaaaaaaaaaaaaaaaaaaaaaaaa\noaaaaaaaaaaaaaaaaaaaaaaaaaaaaa\noaaaaaaaaaaaaaaaaaaaaaaaaaaaaaa\noaaaaaaaaaaaaaaaaaaaaaaaaaaaaaaa\noaaaaaaaaaaaaaaaaaaaaaaaaaaaaaaaa\noaaaaaaaaaaaaaaaaaaaaaaaaaaaaaaaaa\noaaaaaaaaaaaaaaaaaaaaaaaaaaaaaaaaaa\noaaaaaaaaaaaaaaaaaaaaaaaaaaaaaaaaaaa\noaaaaaaaaaaaaaaaaaaaaaaaaaaaaaaaaaaaa\noaaaaaaaaaaaaaaaaaaaaaaaaaaaaaaaaaaaaa\noaaaaaaaaaaaaaaaaaaaaaaaaaaaaaaaaaaaaaa\noaaaaaaaaaaaaaaaaaaaaaaaaaaaaaaaaaaaaaaa\noaaaaaaaaaaaaaaaaaaaaaaaaaaaaaaaaaaaaaaaa\noaaaaaaaaaaaaaaaaaaaaaaaaaaaaaaaaaaaaaaaaa\noaaaaaaaaaaaaaaaaaaaaaaaaaaaaaaaaaaaaaaaaaa\noaaaaaaaaaaaaaaaaaaaaaaaaaaaaaaaaaaaaaaaaaaa\noaaaaaaaaaaaaaaaaaaaaaaaaaaaaaaaaaaaaaaaaaaaa\noaaaaaaaaaaaaaaaaaaaaaaaaaaaaaaaaaaaaaaaaaaaaa\noaaaaaaaaaaaaaaaaaaaaaaaaaaaaaaaaaaaaaaaaaaaaaa\noaaaaaaaaaaaaaaaaaaaaaaaaaaaaaaaaaaaaaaaaaaaaaaa\noaaaaaaaaaaaaaaaaaaaaaaaaaaaaaaaaaaaaaaaaaaaaaaaa\noaaaaaaaaaaaaaaaaaaaaaaaaaaaaaaaaaaaaaaaaaaaaaaaaa\noaaaaaaaaaaaaaaaaaaaaaaaaaaaaaaaaaaaaaaaaaaaaaaaaaa\n"
     ]
    }
   ],
   "source": [
    "PT = PT / (corpus_size - 1)\n",
    "\n",
    "email_size = 50\n",
    "email = random.choice(charset[:26])\n",
    "\n",
    "for char in range(email_size):\n",
    "    email.index()\n",
    "    email += \"a\"\n",
    "    print(email)"
   ]
  }
 ]
}