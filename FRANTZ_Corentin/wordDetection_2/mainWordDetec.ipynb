{
 "metadata": {
  "language_info": {
   "codemirror_mode": {
    "name": "ipython",
    "version": 3
   },
   "file_extension": ".py",
   "mimetype": "text/x-python",
   "name": "python",
   "nbconvert_exporter": "python",
   "pygments_lexer": "ipython3",
   "version": "3.6.9-final"
  },
  "orig_nbformat": 2,
  "kernelspec": {
   "name": "python36964bit1ec26c1e04d24cc09f8f676418158d87",
   "display_name": "Python 3.6.9 64-bit"
  }
 },
 "nbformat": 4,
 "nbformat_minor": 2,
 "cells": [
  {
   "cell_type": "code",
   "execution_count": 1,
   "metadata": {},
   "outputs": [],
   "source": [
    "import cv2\n",
    "import numpy as np\n",
    "img=cv2.imread (\"hello_world.png\");\n",
    "hsv = cv2.cvtColor(img, cv2.COLOR_BGR2HSV)\n",
    "h,s,v= cv2.split(hsv)\n",
    "ret_h, th_h = cv2.threshold(h,0,255,cv2.THRESH_BINARY+cv2.THRESH_OTSU)\n",
    "ret_s, th_s = cv2.threshold(s,0,255,cv2.THRESH_BINARY+cv2.THRESH_OTSU)\n",
    "#Fusion th_h et th_s\n",
    "th=cv2.bitwise_or(th_h,th_s)\n",
    "#Ajouts de bord à l'image\n",
    "bordersize=10\n",
    "th=cv2.copyMakeBorder(th, top=bordersize, bottom=bordersize, left=bordersize, right=bordersize, borderType= cv2.BORDER_CONSTANT, value=[0,0,0] )\n",
    "#Remplissage des contours\n",
    "im_floodfill = th.copy()\n",
    "h, w = th.shape[:2]\n",
    "mask = np.zeros((h+2, w+2), np.uint8)\n",
    "cv2.floodFill(im_floodfill, mask, (0,0), 255)\n",
    "im_floodfill_inv = cv2.bitwise_not(im_floodfill)\n",
    "th = th | im_floodfill_inv\n",
    "#Enlèvement des bord de l'image\n",
    "th=th[bordersize: len(th)-bordersize,bordersize: len(th[0])-bordersize]\n",
    "resultat=cv2.bitwise_and(img,img,mask=th)\n",
    "cv2.imwrite(\"im_floodfill.png\",im_floodfill)\n",
    "cv2.imwrite(\"th.png\",th)\n",
    "cv2.imwrite(\"resultat.png\",resultat)\n",
    "contours, hierarchy = cv2.findContours(th,cv2.RETR_TREE,cv2.CHAIN_APPROX_SIMPLE)\n",
    "for i in range (0, len(contours)) :\n",
    "    mask_BB_i = np.zeros((len(th),len(th[0])), np.uint8)\n",
    "    x,y,w,h = cv2.boundingRect(contours[i])\n",
    "    cv2.drawContours(mask_BB_i, contours, i, (255,255,255), -1)\n",
    "    BB_i=cv2.bitwise_and(img,img,mask=mask_BB_i)\n",
    "    if h >15 and w>15 :\n",
    "        BB_i=BB_i[y:y+h,x:x+w]\n",
    "        cv2.imwrite(\"BB_\"+str(i)+\".png\",BB_i)"
   ]
  },
  {
   "cell_type": "code",
   "execution_count": null,
   "metadata": {},
   "outputs": [],
   "source": []
  }
 ]
}