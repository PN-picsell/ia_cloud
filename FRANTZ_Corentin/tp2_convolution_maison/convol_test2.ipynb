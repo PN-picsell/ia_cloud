{
 "metadata": {
  "language_info": {
   "codemirror_mode": {
    "name": "ipython",
    "version": 3
   },
   "file_extension": ".py",
   "mimetype": "text/x-python",
   "name": "python",
   "nbconvert_exporter": "python",
   "pygments_lexer": "ipython3",
   "version": "3.6.9-final"
  },
  "orig_nbformat": 2,
  "kernelspec": {
   "name": "python36964bit1ec26c1e04d24cc09f8f676418158d87",
   "display_name": "Python 3.6.9 64-bit"
  }
 },
 "nbformat": 4,
 "nbformat_minor": 2,
 "cells": [
  {
   "cell_type": "code",
   "execution_count": 1,
   "metadata": {},
   "outputs": [],
   "source": [
    "from PIL import Image, ImageDraw"
   ]
  },
  {
   "cell_type": "code",
   "execution_count": 10,
   "metadata": {},
   "outputs": [],
   "source": [
    "# Box Blur kernel\n",
    "box_kernel = [[1 / 9, 1 / 9, 1 / 9],\n",
    "              [1 / 9, 1 / 9, 1 / 9],\n",
    "              [1 / 9, 1 / 9, 1 / 9]]\n",
    "\n",
    "\n",
    "box_kernel2 = [[0 / 9, 0 / 9, 0 / 9, 0 / 9, 0 / 9],\n",
    "              [0 / 9, 1 / 9, 1 / 9, 1 / 9, 0 / 9],\n",
    "              [0 / 9, 1 / 9, 1 / 9, 1 / 9, 0 / 9],\n",
    "              [0 / 9, 1 / 9, 1 / 9, 1 / 9, 0 / 9],\n",
    "              [0 / 9, 0 / 9, 0 / 9, 0 / 9, 0 / 9]]\n",
    "              \n",
    "\n",
    "# Gaussian kernel\n",
    "gaussian_kernel = [[1 / 256, 4  / 256,  6 / 256,  4 / 256, 1 / 256],\n",
    "                   [4 / 256, 16 / 256, 24 / 256, 16 / 256, 4 / 256],\n",
    "                   [6 / 256, 24 / 256, 36 / 256, 24 / 256, 6 / 256],\n",
    "                   [4 / 256, 16 / 256, 24 / 256, 16 / 256, 4 / 256],\n",
    "                   [1 / 256, 4  / 256,  6 / 256,  4 / 256, 1 / 256]]"
   ]
  },
  {
   "cell_type": "code",
   "execution_count": 7,
   "metadata": {},
   "outputs": [],
   "source": [
    "def convol(image, kernel):\n",
    "\n",
    "    input_image = Image.open(image)\n",
    "    input_pixels = input_image.load()\n",
    "    # Select kernel here:\n",
    "    kernel = kernel\n",
    "\n",
    "    # Middle of the kernel\n",
    "    offset = len(kernel) // 2\n",
    "\n",
    "    # Create output image\n",
    "    output_image = Image.new(\"RGB\", input_image.size)\n",
    "    draw = ImageDraw.Draw(output_image)\n",
    "\n",
    "    # Compute convolution between intensity and kernels\n",
    "    for x in range(offset, input_image.width - offset):\n",
    "        for y in range(offset, input_image.height - offset):\n",
    "            acc = [0, 0, 0]\n",
    "            for a in range(len(kernel)):\n",
    "                for b in range(len(kernel)):\n",
    "                    xn = x + a - offset\n",
    "                    yn = y + b - offset\n",
    "                    pixel = input_pixels[xn, yn]\n",
    "                    acc[0] += pixel[0] * kernel[a][b]\n",
    "                    acc[1] += pixel[1] * kernel[a][b]\n",
    "                    acc[2] += pixel[2] * kernel[a][b]\n",
    "\n",
    "            draw.point((x, y), (int(acc[0]), int(acc[1]), int(acc[2])))\n",
    "        \n",
    "    output_image.save(\"output.png\")"
   ]
  },
  {
   "cell_type": "code",
   "execution_count": 11,
   "metadata": {},
   "outputs": [],
   "source": [
    "convol(\"test2.jpg\", box_kernel2)"
   ]
  },
  {
   "cell_type": "code",
   "execution_count": null,
   "metadata": {},
   "outputs": [],
   "source": []
  }
 ]
}