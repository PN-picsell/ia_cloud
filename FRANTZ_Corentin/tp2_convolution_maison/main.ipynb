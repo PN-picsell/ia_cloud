{
 "metadata": {
  "language_info": {
   "codemirror_mode": {
    "name": "ipython",
    "version": 3
   },
   "file_extension": ".py",
   "mimetype": "text/x-python",
   "name": "python",
   "nbconvert_exporter": "python",
   "pygments_lexer": "ipython3",
   "version": "3.6.9-final"
  },
  "orig_nbformat": 2,
  "kernelspec": {
   "name": "python36964bit1ec26c1e04d24cc09f8f676418158d87",
   "display_name": "Python 3.6.9 64-bit"
  }
 },
 "nbformat": 4,
 "nbformat_minor": 2,
 "cells": [
  {
   "cell_type": "code",
   "execution_count": 1,
   "metadata": {},
   "outputs": [],
   "source": [
    "from PIL import Image"
   ]
  },
  {
   "cell_type": "code",
   "execution_count": 10,
   "metadata": {},
   "outputs": [],
   "source": [
    "def produit_convo(Pix,Ker,Largeur,Hauteur):\n",
    "    newPix=[]\n",
    "    for p in range(Largeur*Hauteur):\n",
    "        s=0\n",
    "        for i in range(3):\n",
    "            if p-2*Largeur>=0:\n",
    "                if abs((p-2*Largeur-2+i)%Largeur-(p-2*Largeur)%Largeur)<=2 :\n",
    "                    s=s+Ker[i]*Pix[p-2*Largeur-2+i]\n",
    "                else:\n",
    "                    continue\n",
    "            else:\n",
    "                break\n",
    "        for i in range(3):\n",
    "            if p-Largeur>=0:\n",
    "                if abs((p-Largeur-2+i)%Largeur-(p-Largeur)%Largeur)<=2 :\n",
    "                    s=s+Ker[5+i]*Pix[p-Largeur-2+i]\n",
    "                else:\n",
    "                    continue\n",
    "            else:\n",
    "                break\n",
    "        for i in range(3):\n",
    "            if abs((p-2+i)%Largeur-p%Largeur)<=2 :\n",
    "                    s=s+Ker[10+i]*Pix[p-2+i]\n",
    "            else:\n",
    "                continue\n",
    "        for i in range(3):\n",
    "            if p+Largeur<Largeur*Hauteur:\n",
    "                if abs((p+Largeur-2+i)%Largeur-(p+Largeur)%Largeur)<=2 :\n",
    "                    s=s+Ker[15+i]*Pix[p+Largeur-2+i]\n",
    "                else:\n",
    "                    continue\n",
    "            else:\n",
    "                break\n",
    "        for i in range(3):\n",
    "            if p+2*Largeur<Largeur*Hauteur:\n",
    "                if abs((p+2*Largeur-2+i)%Largeur-(p+2*Largeur)%Largeur)<=2 :\n",
    "                    s=s+Ker[20+i]*Pix[p+2*Largeur-2+i]\n",
    "                else:\n",
    "                    continue\n",
    "            else:\n",
    "                break\n",
    "        newPix.append(s)\n",
    "    return newPix"
   ]
  },
  {
   "cell_type": "code",
   "execution_count": 11,
   "metadata": {},
   "outputs": [
    {
     "output_type": "error",
     "ename": "IndexError",
     "evalue": "list index out of range",
     "traceback": [
      "\u001b[0;31m---------------------------------------------------------------------------\u001b[0m",
      "\u001b[0;31mIndexError\u001b[0m                                Traceback (most recent call last)",
      "\u001b[0;32m<ipython-input-11-4a337940888c>\u001b[0m in \u001b[0;36m<module>\u001b[0;34m\u001b[0m\n\u001b[1;32m     19\u001b[0m \u001b[0;34m\u001b[0m\u001b[0m\n\u001b[1;32m     20\u001b[0m \u001b[0;34m\u001b[0m\u001b[0m\n\u001b[0;32m---> 21\u001b[0;31m \u001b[0mListePixelsRouges\u001b[0m\u001b[0;34m=\u001b[0m\u001b[0mproduit_convo\u001b[0m\u001b[0;34m(\u001b[0m\u001b[0mListePixelsRouges\u001b[0m\u001b[0;34m,\u001b[0m\u001b[0mnoyau\u001b[0m\u001b[0;34m,\u001b[0m\u001b[0mw\u001b[0m\u001b[0;34m,\u001b[0m\u001b[0mh\u001b[0m\u001b[0;34m)\u001b[0m\u001b[0;34m\u001b[0m\u001b[0;34m\u001b[0m\u001b[0m\n\u001b[0m\u001b[1;32m     22\u001b[0m \u001b[0mListePixelsVerts\u001b[0m\u001b[0;34m=\u001b[0m\u001b[0mproduit_convo\u001b[0m\u001b[0;34m(\u001b[0m\u001b[0mListePixelsVerts\u001b[0m\u001b[0;34m,\u001b[0m\u001b[0mnoyau\u001b[0m\u001b[0;34m,\u001b[0m\u001b[0mw\u001b[0m\u001b[0;34m,\u001b[0m\u001b[0mh\u001b[0m\u001b[0;34m)\u001b[0m\u001b[0;34m\u001b[0m\u001b[0;34m\u001b[0m\u001b[0m\n\u001b[1;32m     23\u001b[0m \u001b[0mListePixelsBleus\u001b[0m\u001b[0;34m=\u001b[0m\u001b[0mproduit_convo\u001b[0m\u001b[0;34m(\u001b[0m\u001b[0mListePixelsBleus\u001b[0m\u001b[0;34m,\u001b[0m\u001b[0mnoyau\u001b[0m\u001b[0;34m,\u001b[0m\u001b[0mw\u001b[0m\u001b[0;34m,\u001b[0m\u001b[0mh\u001b[0m\u001b[0;34m)\u001b[0m\u001b[0;34m\u001b[0m\u001b[0;34m\u001b[0m\u001b[0m\n",
      "\u001b[0;32m<ipython-input-10-61ae0f7917b8>\u001b[0m in \u001b[0;36mproduit_convo\u001b[0;34m(Pix, Ker, Largeur, Hauteur)\u001b[0m\n\u001b[1;32m     21\u001b[0m         \u001b[0;32mfor\u001b[0m \u001b[0mi\u001b[0m \u001b[0;32min\u001b[0m \u001b[0mrange\u001b[0m\u001b[0;34m(\u001b[0m\u001b[0;36m3\u001b[0m\u001b[0;34m)\u001b[0m\u001b[0;34m:\u001b[0m\u001b[0;34m\u001b[0m\u001b[0;34m\u001b[0m\u001b[0m\n\u001b[1;32m     22\u001b[0m             \u001b[0;32mif\u001b[0m \u001b[0mabs\u001b[0m\u001b[0;34m(\u001b[0m\u001b[0;34m(\u001b[0m\u001b[0mp\u001b[0m\u001b[0;34m-\u001b[0m\u001b[0;36m2\u001b[0m\u001b[0;34m+\u001b[0m\u001b[0mi\u001b[0m\u001b[0;34m)\u001b[0m\u001b[0;34m%\u001b[0m\u001b[0mLargeur\u001b[0m\u001b[0;34m-\u001b[0m\u001b[0mp\u001b[0m\u001b[0;34m%\u001b[0m\u001b[0mLargeur\u001b[0m\u001b[0;34m)\u001b[0m\u001b[0;34m<=\u001b[0m\u001b[0;36m2\u001b[0m \u001b[0;34m:\u001b[0m\u001b[0;34m\u001b[0m\u001b[0;34m\u001b[0m\u001b[0m\n\u001b[0;32m---> 23\u001b[0;31m                     \u001b[0ms\u001b[0m\u001b[0;34m=\u001b[0m\u001b[0ms\u001b[0m\u001b[0;34m+\u001b[0m\u001b[0mKer\u001b[0m\u001b[0;34m[\u001b[0m\u001b[0;36m10\u001b[0m\u001b[0;34m+\u001b[0m\u001b[0mi\u001b[0m\u001b[0;34m]\u001b[0m\u001b[0;34m*\u001b[0m\u001b[0mPix\u001b[0m\u001b[0;34m[\u001b[0m\u001b[0mp\u001b[0m\u001b[0;34m-\u001b[0m\u001b[0;36m2\u001b[0m\u001b[0;34m+\u001b[0m\u001b[0mi\u001b[0m\u001b[0;34m]\u001b[0m\u001b[0;34m\u001b[0m\u001b[0;34m\u001b[0m\u001b[0m\n\u001b[0m\u001b[1;32m     24\u001b[0m             \u001b[0;32melse\u001b[0m\u001b[0;34m:\u001b[0m\u001b[0;34m\u001b[0m\u001b[0;34m\u001b[0m\u001b[0m\n\u001b[1;32m     25\u001b[0m                 \u001b[0;32mcontinue\u001b[0m\u001b[0;34m\u001b[0m\u001b[0;34m\u001b[0m\u001b[0m\n",
      "\u001b[0;31mIndexError\u001b[0m: list index out of range"
     ]
    }
   ],
   "source": [
    "# Définition du noyau\n",
    "noyau=[\n",
    "       1,1,1,\n",
    "       1,1,1,\n",
    "       1,1,1,\n",
    "       ]\n",
    " \n",
    "# L'image a 3 composantes :RGB\n",
    "im = Image.open(\"test2.jpg\")                                         \n",
    "w,h=im.size\n",
    " \n",
    "#Séparation des composantes => tuple de 3 images\n",
    "ImagePixelsRouges,ImagePixelsVerts,ImagePixelsBleus=im.split()      \n",
    " \n",
    "#transformation de l'image en liste de pixels\n",
    "ListePixelsRouges=list(ImagePixelsRouges.getdata())                 \n",
    "ListePixelsVerts=list(ImagePixelsVerts.getdata())\n",
    "ListePixelsBleus=list(ImagePixelsBleus.getdata())\n",
    " \n",
    " \n",
    "ListePixelsRouges=produit_convo(ListePixelsRouges,noyau,w,h)\n",
    "ListePixelsVerts=produit_convo(ListePixelsVerts,noyau,w,h)\n",
    "ListePixelsBleus=produit_convo(ListePixelsBleus,noyau,w,h)\n",
    "    \n",
    "ImagePixelsRouges.putdata(ListePixelsRouges)\n",
    "ImagePixelsVerts.putdata(ListePixelsVerts)\n",
    "ImagePixelsBleus.putdata(ListePixelsBleus)\n",
    " \n",
    "imgnew = Image.merge('RGB',(ImagePixelsRouges,ImagePixelsVerts,ImagePixelsBleus)) \n",
    "imgnew.save(\"Convolution.jpg\")\n",
    " \n",
    "im.close()\n",
    "imgnew.close()"
   ]
  },
  {
   "cell_type": "code",
   "execution_count": null,
   "metadata": {},
   "outputs": [],
   "source": []
  }
 ]
}