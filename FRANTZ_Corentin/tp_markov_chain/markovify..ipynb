{
 "metadata": {
  "language_info": {
   "codemirror_mode": {
    "name": "ipython",
    "version": 3
   },
   "file_extension": ".py",
   "mimetype": "text/x-python",
   "name": "python",
   "nbconvert_exporter": "python",
   "pygments_lexer": "ipython3",
   "version": "3.6.9-final"
  },
  "orig_nbformat": 2,
  "kernelspec": {
   "name": "python36964bit1ec26c1e04d24cc09f8f676418158d87",
   "display_name": "Python 3.6.9 64-bit"
  }
 },
 "nbformat": 4,
 "nbformat_minor": 2,
 "cells": [
  {
   "cell_type": "code",
   "execution_count": 1,
   "metadata": {},
   "outputs": [],
   "source": [
    "import markovify\n",
    "import datasets\n",
    "import re, unidecode, string"
   ]
  },
  {
   "cell_type": "code",
   "execution_count": 11,
   "metadata": {},
   "outputs": [
    {
     "output_type": "stream",
     "name": "stderr",
     "text": [
      "Reusing dataset allocine_dataset (/home/korentyn/.cache/huggingface/datasets/allocine_dataset/allocine/1.0.0/bbee2ebb45a067891973b91ebdd40a93598d1e2dd5710b6714cdc2cd81d0ed65)\n"
     ]
    },
    {
     "output_type": "execute_result",
     "data": {
      "text/plain": [
       "re-utopique de Georges Orwell. Fable sombre et percutante pour les uns, format standard de la sophistication visuelle pour les autres, The Game est avant tout un divertissement d\\'excellente facture donnant raison à l\\'aphorisme officieux de Brian De Palma : \" le cinéma, c\\'est le mensonge 24 fois par seconde \"... Un coup de maître.',\n",
       " \"Avis bref ; La revanche de Pinocchio, un film d'horreur que j'avais vu lors de ma tendre enfance. Des années après je l'apprécie toujours autant, certes le film a un peu de mal à se lancé mais fini malgré par être sympa. Certes ont ne voit pas grand choses niveaux des meurtres mais Pinocchio est plutôt une belle marionnette je trouve en plus d'être peu commode. Enfin bref, ont es peut être loin du chef d'oeuvre mais je préfère toujours ce genre de film au Annabelle de notre époque !\",\n",
       " \"Un bon film d'action/espionnage dans la lignée d'Ennemi d'Etat (du même Tony Scott) et de Mensonges d'Etat (de son frère Ridley). Le scénario, très bon, nous permet d'adhèrer aux personnages et à l'intrigue et à également garder le suspense jusqu'à la fin. Les acteurs, quant à eux, sont très bons (Robert Redford en tête). A voir.\",\n",
       " 'Même si Amber Heard est présente cela ne suffit pas à sauver un tel film aussi lent et plat. Un film qui passera inaperçu, déçu.',\n",
       " '\"A bloody aria\" Il y à du genie là, un \"délivrance sauce Coréenne',\n",
       " \"Enorme ! le film est bon en tout point! l'humour omniprésent nous émerveille et les acteurs sont trés trés bons.le scénario est captivant bref a voir !chapeau\",\n",
       " \"Si le premier volet essayait (mal, mais essayait) de poser des questions philosophiques (de la philo pour ado en mal de vivre, mais quand même), ici on a une sorte de copie, sans âme, sans intérêt du premier film… un remake en somme… ici rien n'est cohérent… le film ne prend même pas le peine de s'amuser à retracer l'enfance de son héros… on a ici des jeunes adultes immatures, sans personnalités…\",\n",
       " \"ah ! il fallait cantet pour realiser un tel drame un sujet plus que tabou ;la misere des iles montree dans toute sa cruaute ; sans faux-fuyants ;l'errance des hommes a travers legba proxenete malgre lui ;la solitude ubuesque de femmes riches et vieillotes et surtout uns superbe charlotte au propre comme au figure poignant!\",\n",
       " 'On ne s\\'ennuie pas lol! De grands acteurs français comme Giraud, Balasko, Jugnot (dans un rôle qui lui correspond mieux que certains de ses rôles pompeux), avec Booder qui s\\'en sort très bien! Une belle satire sur les clivages sociaux, les banlieues et sur les stigmatisations autour de l\\'islam et des musulmans. C\\'est d\\'ailleurs pour ça que la presse qui habituellement fait ses choux gras avec la paranoïa de l\\'islam a mal accueilli ce film qui a pourtant de très bons atouts (originalité, interprétation, mise en scène, scénario...). Cité pour cité ils auraient surement préféré du bobo avec une personne violente de cité belle gueule apprivoisée par un aristo, ou une beurette émancipée harcelée par sa famille musulmane (plus en phase avec leur propagande)! Le flic asiatique et le flic africain sont un peu lourds c\\'est vrai, mais après neuilly sa mère, cette \"comédie policière\" réussie dénonce habilement les clichés tout en étant très distrayante, animée et tout en offrant de nombreux passages plutôt drôles et amusants, sans pour autant être trop racoleuse.',\n",
       " \"The Machinist : Juste énorme, j'ai tout simplement était impressionné, bluffé et subjuguais par ce film qui est un vrai perle. De part sa réalisation et son montage qui est excellent, monté comme un puzzle, comme une machination : vraiment montage très efficace qui renforce l'ambiance du film qui est juste glaçant, glauque, inquiétante, malsain, et très noire et très déprimant. Le scénario est aussi remarquable: très prenant et bien travaillé avec beaucoup de subtilité, de suspense (a la 6eme sens) et de mystère. Mystère qui sera résolu et gardé jusqu'à que a la fin, ce qui donne un twist final des plus remarquable et m'a bien bluffé. Et ce que j’ai vraiment adore dans ce film, c’est que le film est très psychologique, très porté sur la psychologique du personnage : ces émotion, son état physique et psychique, sa folie car comme se réveiller d’un cauchemar quand on est éveillé... De plus, les acteurs sont tous très convaincants mais surtout mention spécial a la grand performance de Christian Bale qui est juste magistrale, hallucinante et fait froide dans le dos (Christian Bale est très maigre, très squelettique et a perdu 30 Kg pour le film et a pas dormis pendant 2, 3 jours pour ce rapproché de l’état du personnage et moi je dis : respect) : un grand Bravo a cette acteur qui nous prouve sont implication et son talent, et ça c'est vraiment énorme, moi je dis : il aurait mérité un oscar, une des performance d’acteur les plus impressionnante... D'ailleurs le personnage de Christian Bale est vraiment excellent, très bien travaillé, très torturé : vraiment excellent. Les musiques sont bien trouvées et colle parfaitement a l'ambiance du film. Voila, je vous le conseil absolument ce film car il en vaut vraiment la pêne : un pur chef-d’œuvre.\",\n",
       " 'En 1982, le tandem Richard Balducci-Jean Lefebvre persiste et signe un an après \"Prends ta Rolls et va pointer\" une autre comèdie au titre èvocateur avec de jeune vedettes en herbe (dont Manuel Gèlin, Jean-Marie Vauclin avec ses carreaux, la belle Sabine Paturel...) mais qui ne confirmeront pas vraiment au cinèma! Jean Lefebvre est cette fois un flûtiste à l\\'Opèra, dirigeant avec sa famille un magasin de disques (il faut le voir parler de David Bowie à une cliente punk). Mais il y a un hic car des conflits èclatent avec son fiston Manuel Gèlin, amateur de musique afro-cubaine! Quand ce dernier rate son bac, il dècide de quitter la maison familiale! Entre la bande de copains, les motos, les amours et la musique electro des annèes 80, Balducci signe une comèdie quelconque dont le scènario est en option! Sur le papier, son film ne vaut rien mais force malgrè tout la sympathie avec une scène marrante entre Denise Grey et Dominique Zardi...',\n",
       " \"Il y avait les mots bleus de Christophe, il y a maintenant le film bleu de Nicole Garcia...J'espère que d'autres personnes auront remarqué le soin apporté à la déco qui m'a émerveillée. On y retrouve souvent toutes les nuances de bleu, tirant jusque vers du vert céladon ou vers du gris, sûrement en écho au bleu des yeux de Marion Cotillard, des yeux d'Alex Bredemühl, de la mer.... C'est la couleur majoritaire : les robes (superbes), les murs de la maison, le seau du pic-nic, et même les voitures... La musique aussi est très belle. Les acteurs principaux peuvent sembler taciturnes et peu expressifs, mais leurs yeux (encore) expriment tant de peur, d'interrogation, d'espoir et de désir de vivre intensément enfouis, que leur jeu sonne très juste. Marion Cotillard est une belle et grande artiste, elle sait tout jouer et tout exprimer ou retenir, et ainsi toucher profondément.\",\n",
       " \"Comédie française surprise qui nous entraîne dans une spirale de la folie familiale avec une facilité et une décontraction à toute épreuve sans jamais tomber dans le vulgaire. Un vrai bol d'air frais.\",\n",
       " \"Film d' une extreme pauvreté, franchement on se demande ou la realisatrice veut en venir.\",\n",
       " \"Bon film, très bien mis en scène, très bien photographié, sur l'enfance, la solitude… Très beau.\",\n",
       " '\"15 ans et demi\" où serait-il fini le temps des interdits ? Le sujet n\\'a vraiment rien d\\'original: un père absent, installè aux Etats-Unis, qui retrouve sa fille qui, ô stupeur, n\\'est plus un bèbè mais une ado aussi belle que rebelle dont la copine est une certaine \"Maud\" de la Star academy 5! Daniel Auteuil (qui se fait plaisir) va devoir suivre un stage de remise à niveau pour pères en difficultès! On imagine dèjà le père aux prises avec les tâches mènagères puis avec les èmois de la donzelle en passant par les retrouvailles d\\'un certain Norbert (\"Eh ! Piquouze...Alain Chabat, dans une petite apparition qui tourne trop court). Mais des trouvailles amusantes ègaient le tout: notre père dèsemparè parle à sa conscience et son Jiminy Cricket à lui, c\\'est Albert Einstein, incarnè par François Berlèand! Sympa, non ? Oui mais le film n\\'apporte rien de nouveau au genre...',\n",
       " \"un film comme je les aime plein de vie et de scènes improbables. c'est drôle varié touchant on rit on passe de bons moments et les interprètes sont très convaincants. un véritable bol d'air.\",\n",
       " \"Ce film est exceptionnellement drôle et ne souffre d'aucun défaut. Le rythme est très efficace et la mise en scène millimétrée. Bourré de clins d’œil et de personnages passionnants, on arrive à une histoire rocambolesque, épique et tout à fait surprenante. Les adultes y trouveront plus de choses que les enfants malgré tout je pense... mais à voir... DE TOUTE URGENCE!\",\n",
       " 'Il s\\'agit d\\'un film daté. On retrouve l\\'habituel thématique de Bertolucci, l\\'adolescence, les parents divorcés, la bourgeoisie, la drogue, la psychanalyse... traitée à la manière des années 70. Ce film rappelle de beaucoup son film \"La Luna\"... avec en plus un mauvais casting. Situations prévisibles. Tout est souligné, cousu de fil blanc... C\\'est le cinéma d\\'une époque. Bertolucci est né 1940. Il n\\'arrivera jamais à se renouveler. Il serait préférable qu\\'il prenne sa retraite.',\n",
       " \"Samantha Fuller a fait appel à une quinzaine d’artistes ayant côtoyé de près ou de loin son père pour raconter à travers ses écrits, ses films et ses « 16 mm » inédits l’histoire d’un homme citoyen du monde avant que l’expression ne devienne bourgeoise. James Franco pour la jeunesse, Jennifer Beals, sur le journaliste d’investigation que fut Samuel Fuller (« si le type doit griller à Sing Sing, arrange-toi pour que le lecteur sente l’odeur de sa chair brûlée ») puis pigiste une période relatée par Bill Duke, avant que le jeune homme ne traverse l’Amérique, dans ce documentaire d’une vie hors norme qui couvre près d’un siècle d’histoire des États-Unis. Des réalisateurs comme William Friedkin ou Joe Dante, des acteurs James Franco, Tim Roth, Constance Towers, la détricote en lui prêtant leurs voix. Du bel ouvrage pour l’Histoire et le cinéma. AVIS BONUS Un court métrage de 1959 sur une compagnie prise au piège dans un combat avec les Nazis en Afrique du Nord. Il s'agissait d'un pilote pour une série. Pour en savoir plus : lheuredelasortie.com\",\n",
       " \"J'avoue avoir bien rigoler. Acteurs peu crédibles, terriblement plat, effets spéciaux hilarants ! Certes c'est un téléfilm mais ils auraient pu faire beaucoup mieux, d'autant plus que même le scénario est déjà vu, revu, rerevu... A éviter, sauf si vous voulez rigoler un coup. Si on vous offre le DVD de Prehistoric, c'est que l'on vous veut pas que du bien...\",\n",
       " 'C\\'est le portrait de 5 femmes à travers le monde qui témoignent des violences patriarcales dans leur culture, dans leur religion. Vous y apprendrez comment la femme, et le corps de la femme, y sont perçus et enclavés. Tout le monde y passe : la religion catholique en Europe, la religion juive aux États-Unis, la culture japonaise, les rituels africains, l\\'Inde... @bruno.deruisseau, à ceux qui n\\'y voit que \"la dénonciation d’un patriarcat ancestral mais incapable de la faire résonner avec ses manifestations plus contemporaines\", je dirais : Le témoignage de ces femmes contemporaines traite d\\'un patriarcat ancestral vivant et bien ancré, puisqu\\'il a impacté violemment ces dites femmes, écho de bien d\\'autres. D\\'où ! des manifestations à travers le monde entiers pour dénoncer et dire stop à ces abus frontaux ou insidieux, et prendre enfin en main les enjeux de l\\'égalité des sexes. Alors quand on lit des critiques de ce genre cis, d’intellectuels (?), incapables de faire résonner l\\'oppression immémoriale des femmes avec le #metoo, on se dit que le chemin à parcourir est encore long.',\n",
       " \"Voilà un film qui aura surfé sur le succès de Jurassic Park. Mais la comparaison s'arrête là. Les effets spéciaux sont risibles, pour ne pas dire d'un autre âge. Le scénario est maigre, la mise en scène absente et le jeu des acteurs est plutôt médiocre. Reste quelques moments marrants, mais totalement involontaires. Notamment l'histoire des poulets qui auraient permis la résurrection des dinosaures. Ca change des batraciens de Jurassic Park ! Cependant, si on le regarde au second degré, on pourrait l'apprécier. Au mieux divertissant, au pire à oublier.\",\n",
       " \"Peut-être le meilleur Star Wars, et venant d'un fan comme moi, ce n'est pas peu dire! On retrouve l'ambiance assez sombre des premiers épisodes en suivant cette guerre des Clones qui fait rage. Le film retrace le basculement définitif d'Anakin Skywalker vers le Côté Obscur, devenant ainsi l'un des personnages les plus célèbres de l'histoire du cinéma : Dark Vador. Dès les premières minutes, le spectateur est mis dans le rythme avec une bataille spatiale très impressionnante. Les effets spéciaux sont somptueux mais la réussite de ce Star Wars ne vient pas que de là. Les personnages sont bien travaillés et le scénario est tout simplement génial, joignant parfaitement les deux trilogies jusque dans les moindres détails. Les 30 dernières minutes sont d'une intensité folle car bien qu'on s'y attende, la chute et le massacre des Jedi représente un véritable choc. Le moment le plus fort de cette Revanche des Sith reste sans doute tout de même le duel Obi-Wan - Anakin, à la limite du légendaire. Certaines répliques sont inoubliables. Ce film est sans doute l'un des plus grands chefs-d'oeuvre du cinéma de science-fiction!\",\n",
       " \"C'est un film pour enfant avec des gags de classe primaire. Jack Black en fait des tonnes comme toujours et agace vite.\",\n",
       " 'Film assez rare que ce \"Rock all night\", réalisé en 1957 par Roger Corman. À l\\'instar de son titre, le film se présente comme un hommage à la révolution rock naissante. Dans un établissement de nuit, une multitude de groupes et d\\'artistes du genre se produisent. Parmi eux figurent notamment The Platters, interprètes du tube planétaire \"Only you\". Le plaisir des oreilles est le seul intérêt de ce film mineur de Corman. D\\'histoire, il y en a peu ou pas. \"Rock all night\" constitue une flopée de protagonistes volants, venant tour à tour pimenter malaisément un scénario qui tourne désespérément en rond. Comme si vous passiez une soirée au cabaret. Une soirée ennuyeuse en l\\'occurrence.',\n",
       " \"Un excellent film ; Pierre Richard le meilleur j'aime tellement son humour ; pas lassé de voir et revoir ce film ; toujours de la bonne comédie à la française !\",\n",
       " \"Trop délirant le duo Lanvin/Villeret ! On prend un réel plaisir à suivre leur parcours de dealers. C'est loin d'être triste avec toute cette brochette d'acteurs secondaires (Galabru, le papa flic, Balasko, excellente avec son poisson exotique, Mairesse,...) et tous les gags qui défilent (les statuettes bourrées de drogue, les flics défoncés dans l'appartement,...). L'image de la police n'est pas épargnée mais tout est traité avec humour !\",\n",
       " 'Chef d\\'oeuvre méconnu de Takahata à qui l\\'on doit d\\'autres grands films dans un registre cependant plus réaliste (voire naturaliste) que le merveilleux de son compère Miyazaki. Ceci dit, s\\'il y a bien du merveilleux chez Takahata et plus particulièrement avec ce film, il provient de la simplicité d\\'un quotidien ici admirablement mis en image, et également \"mis en scène\" car s\\'il s\\'agit d\\'un film d\\'animation, Takahata maîtrise parfaitement certains codes clairement cinématographiques (sens du cadre, plans fixes, etc) que l\\'on trouve chez les grands cinéastes comme Ozu par exemple. Le personnage principal fait ce voyage vers la campagne, se souvient de sa jeunesse et de ces bons ou mauvais moments à passer (premier amour, premières règles, mauvaises notes) et analyse ses souvenirs avec le recul d\\'une jeune femme mais, parallèlement, le film évolue vers un réalisme presque documentaire sur la vie paysanne où le temps semble s\\'être arrêté. Ceux qui lui reprochent sa lenteur n\\'ont strictement rien compris au cinéma. Je reste fasciné par la beauté simple et la finesse infinie de ce film que l\\'on pourrait facilement considérer comme un des sommets du Studio Ghibli. A voir absolument.',\n",
       " \"C'est à la limite de l'escroquerie! On utilise le nom prestigieux de Primo Levi pour attirer le spectateur sur un documentaire filmé par un amateur, complètement nul et sans intérêt. Surtout ne vous laissez pas avoir par le titre!!!\",\n",
       " 'Je me suis rarement aussi ennuié au cinéma. Je suis pourtant bon publique. Même Malik Bentalha est sous exomil... La franchise Taxi méritais bien mieux.',\n",
       " \"Le thème du film est très peu aborde au cinéma, donc ça fait plaisir qu'un réalisateur s'y frotte. Cependant, ben x souffre de lenteurs et d'une réalisation brouillonne. L'acteur principal, quant a lui joue très bien mais ça n'empêche pas que je me suis extrêmement ennuyée devant le film. Bref, peu convaincue.\",\n",
       " \"Un thriller sans grande originalité mais avec un gros casting... Qui n'est d'ailleurs pas un gage de qualité puisque tous surjoue et en font des tonnes même Andy McDowell en fait trop, elle semble même se demander ce qu'elle fait là ! Une séquestration avec torture (gentillet) qui s'avère vite stérile car elle tourne en rond avec les soubresauts habituels du genre. Rien mais rien de ce qu'on attend nous est épargné. Le suspense n'est pas là où on croit et lorsque la fin nous offre le petit truc en plus la dernière scène peu compréhensible laisse le spectateur sur une interrogation que de toute façon on oublie bien vite.\",\n",
       " \"Autodestruction programmée, pas la peine de se réjouir de l'issue finale, ce film n'est à regarder que si on va bien. PLV : Nicolas Cage dans d'autre role que sauveur du monde est plus crédible.\",\n",
       " \"The Coast Guard est un film très engagé de Kim Ki-duk sur l'armée en Corée du Sud où un soldat, après une bavure plutôt barbare (Le massacre d'un pecheur à la mitraillette et à la grenade), sombre dans une folie totale... Même si le film est fort en émotions grâce à une actrice talentueuse traumatisée par la mort de son ami, le film doit aussi beaucoup à sa musique très belle et très touchante qui arrive presque à nous tirer des larmes... Il est claire que Kim Ki-duk est antimilitariste, et il a raison, mais son film m'a paru assez étrange à certains moments où toutes les actions des protagonistes ne sont pas claires. Surtout lorsque le soldat fou essait de tuer ses anciens collègues... Avec une première partie passionante qui rattrape la seconde un peu plus fade, The Coast Guard reste un film à voir mais il est moins bien que Samaria par exemple du même auteur !!!\",\n",
       " 'Pour leur quatrième collaboration, le cinèaste Pierre Granier-Deferre et le scènariste et romancier Jean Marc Roberts s\\'attaquent au milieu de l\\'èdition parisienne! Au delà de la satire, ils content une très belle histoire d\\'amour entre une jeune femme rêveuse (excellente Elisabeth Bourgnine) et un auteur qu\\'elle n\\'a jamais rencontrè mais qu\\'elle aime au travers de ses ècrits! Egèrie du rèalisateur, l\\'actrice prête ses traits androgynes à la lectrice fantasque dont le rôle a ètè conçu spècialement pour elle! Entourèe de comèdiens (dont le regrèttè Philippe Lèotard) qui permettent de dèpasser le ton gentiment romanesque pour atteindre la force de la comèdie de moeurs, \"La couleur du vent\" est une belle rèussite emportèe par le souffle du mystère! Belle musique de Philippe Sarde...',\n",
       " \"se et vraiment pas mal du tout beaucoup d'action et de belle poursuite\",\n",
       " \"Une très bonne surprise dans la filmographie de Spike Lee, qui s'éloigne de ses récits ordinaires sur les Noirs américains et distille ici un remarquable drame humain, offrant à Edward Norton l'une de ses compositions les plus subtiles et impressionnantes. Mélancolique mais aussi empreint d'une certaine majesté, le film dresse le panorama d'un New York vu du côté obscur et qui n'en est que plus fascinant. Avec des interprètes magistraux et en dépit de quelques longueurs, c'est du très bel ouvrage.\",\n",
       " ...]"
      ]
     },
     "metadata": {},
     "execution_count": 11
    }
   ],
   "source": [
    "var = datasets.load_dataset('allocine')\n",
    "corpus=[]\n",
    "for line in var['train']:\n",
    "    corpus.append(line['review'])\n",
    "\n",
    "corpus2 = corpus[10000:]\n",
    "corpus2\n"
   ]
  },
  {
   "cell_type": "code",
   "execution_count": null,
   "metadata": {},
   "outputs": [],
   "source": [
    "# Get raw text as string.\n",
    "with open(\"/path/to/my/corpus.txt\") as f:\n",
    "    text = f.read()\n",
    "\n",
    "# Build the model.\n",
    "text_model = markovify.Text(text)\n",
    "\n",
    "# Print five randomly-generated sentences\n",
    "for i in range(5):\n",
    "    print(text_model.make_sentence())\n",
    "\n",
    "# Print three randomly-generated sentences of no more than 280 characters\n",
    "for i in range(3):\n",
    "    print(text_model.make_short_sentence(280))"
   ]
  },
  {
   "cell_type": "code",
   "execution_count": 12,
   "metadata": {},
   "outputs": [],
   "source": [
    "text_model = markovify.Text(corpus2)\n"
   ]
  },
  {
   "cell_type": "code",
   "execution_count": 13,
   "metadata": {},
   "outputs": [
    {
     "output_type": "stream",
     "name": "stdout",
     "text": [
      "Le troisième temps de reprendre la franchise et de sa fie finit toujours par un personnage original, fort et on préfère le début du ‘’plus grand des acteurs, au mieux gentil... avec une déprimée de moitié et la musique et la pourtant peu originale.\n",
      "Dommage, ce film tres usant, sans rytme , on comprends pourquoi: il ne resterait rien.\n",
      "On découvre avec ravissement d’un film les scénaristes n'avaient pas déjà fait!\n",
      "Un réalisateur visiblement pistonné avec un sujet intéressant, et c'est là toute la détresse adolescente, le réalisateur surdoué s'offre les services d'internement d'urgence venir lui mettre 5 étoiles pour supporter cette daube n'en vaut pas grand chose, ce n'est jamais appuyé et théâtral. de plus, je n'ai pas décroché une caméra et sans grand intérêt, vomissure des westerns et aux gamins !!!!!\n",
      "J'avais aimé le procédé, la démarche et l'action est omniprésente et Melki époustouflants dans leurs vêtements propres.\n",
      "Le film montre ce film.\n",
      "La Jeune fille est enceinte des œuvres d'art.\n",
      "Une oeuvre originale, très bien reproduites et des comédiens exceptionnels qui s'en donnent visiblement à renouer avec le monde de voir christian clavier dans un déballage de ses yeux.\n"
     ]
    }
   ],
   "source": [
    "# Print five randomly-generated sentences\n",
    "for i in range(5):\n",
    "    print(text_model.make_sentence())\n",
    "\n",
    "# Print three randomly-generated sentences of no more than 280 characters\n",
    "for i in range(3):\n",
    "    print(text_model.make_short_sentence(280))"
   ]
  },
  {
   "cell_type": "code",
   "execution_count": 29,
   "metadata": {},
   "outputs": [
    {
     "output_type": "stream",
     "name": "stdout",
     "text": [
      "None\nNone\nNone\nNone\nNone\nNone\nNone\nNone\n"
     ]
    }
   ],
   "source": [
    "corpus = []\n",
    "corpus += \"Rappelez-vous l’objet que nous vîmes, mon âme, Ce beau matin d’été si doux Au détour d’un sentier une charogne infâme Sur un lit semé de cailloux, Les jambes en l’air, comme une femme lubrique, Brûlante et suant les poisons, Ouvrait d’une façon nonchalante et cynique Son ventre plein d’exhalaisons. Le soleil rayonnait sur cette pourriture, Comme afin de la cuire à point, Et de rendre au centuple à la grande Nature Tout ce qu’ensemble elle avait joint Et le ciel regardait la carcasse superbe Comme une fleur s’épanouir. La puanteur était si forte, que sur l’herbe Vous crûtes vous évanouir. Les mouches bourdonnaient sur ce ventre putride, D’où sortaient de noirs bataillons De larves, qui coulaient comme un épais liquide Le long de ces vivants haillons. Tout cela descendait, montait comme une vague, Ou s’élançait en petillant On eût dit que le corps, enflé d’un souffle vague, Vivait en se multipliant. Et ce monde rendait une étrange musique, Comme l’eau courante et le vent, Ou le grain qu’un vanneur d’un mouvement rhythmique Agite et tourne dans son van. Les formes s’effaçaient et n’étaient plus qu’un rêve, Une ébauche lente à venir, Sur la toile oubliée, et que l’artiste achève Seulement par le souvenir. Derrière les rochers une chienne inquiète Nous regardait d’un œil fâché, Épiant le moment de reprendre au squelette Le morceau qu’elle avait lâché. Et pourtant vous serez semblable à cette ordure, À cette horrible infection, Étoile de mes yeux, soleil de ma nature, Vous, mon ange et ma passion ! Oui ! telle vous serez, ô la reine des grâces, Après les derniers sacrements, Quand vous irez, sous l’herbe et les floraisons grasses, Moisir parmi les ossements. Alors, ô ma beauté ! dites à la vermine Qui vous mangera de baisers, Que j’ai gardé la forme et l’essence divine De mes amours décomposés !\"\n",
    "\n",
    "text_model = markovify.Text(corpus)\n",
    "\n",
    "# Print five randomly-generated sentences\n",
    "for i in range(5):\n",
    "    print(text_model.make_sentence())\n",
    "\n",
    "# Print three randomly-generated sentences of no more than 280 characters\n",
    "for i in range(3):\n",
    "    print(text_model.make_short_sentence(280))"
   ]
  },
  {
   "cell_type": "code",
   "execution_count": null,
   "metadata": {},
   "outputs": [],
   "source": []
  }
 ]
}