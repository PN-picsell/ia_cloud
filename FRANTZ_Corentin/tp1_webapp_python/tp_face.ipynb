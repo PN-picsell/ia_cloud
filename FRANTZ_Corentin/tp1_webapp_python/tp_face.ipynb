{
 "metadata": {
  "language_info": {
   "codemirror_mode": {
    "name": "ipython",
    "version": 3
   },
   "file_extension": ".py",
   "mimetype": "text/x-python",
   "name": "python",
   "nbconvert_exporter": "python",
   "pygments_lexer": "ipython3",
   "version": "3.6.9-final"
  },
  "orig_nbformat": 2,
  "kernelspec": {
   "name": "python36964bit1ec26c1e04d24cc09f8f676418158d87",
   "display_name": "Python 3.6.9 64-bit"
  }
 },
 "nbformat": 4,
 "nbformat_minor": 2,
 "cells": [
  {
   "cell_type": "code",
   "execution_count": 4,
   "metadata": {},
   "outputs": [],
   "source": [
    "import numpy as np\n",
    "import cv2\n",
    "import matplotlib.pyplot as plt"
   ]
  },
  {
   "cell_type": "code",
   "execution_count": 5,
   "metadata": {},
   "outputs": [],
   "source": [
    "def faceDetect():\n",
    "\n",
    "    # Load the cascade\n",
    "    face_cascade = cv2.CascadeClassifier(cv2.data.haarcascades +'haarcascade_frontalface_default.xml')\n",
    "    # Read the input image\n",
    "    img = cv2.imread('ressources/test2.jpg')\n",
    "    # Convert into grayscale\n",
    "    gray = cv2.cvtColor(img, cv2.COLOR_BGR2GRAY)\n",
    "    # Detect faces\n",
    "    faces = face_cascade.detectMultiScale(gray, 1.1, 4)\n",
    "\n",
    "\n",
    "    list_json = []\n",
    "    for (x, y, w, h) in faces:\n",
    "        list_json.append({\"x\": int(x), \"y\": int(y), \"w\": int(w), \"h\": int(h)})\n",
    "    return list_json"
   ]
  },
  {
   "cell_type": "code",
   "execution_count": 6,
   "metadata": {},
   "outputs": [
    {
     "output_type": "execute_result",
     "data": {
      "text/plain": [
       "[{'x': 507, 'y': 55, 'w': 67, 'h': 67},\n",
       " {'x': 165, 'y': 67, 'w': 64, 'h': 64},\n",
       " {'x': 299, 'y': 82, 'w': 55, 'h': 55},\n",
       " {'x': 215, 'y': 96, 'w': 69, 'h': 69},\n",
       " {'x': 413, 'y': 93, 'w': 71, 'h': 71}]"
      ]
     },
     "metadata": {},
     "execution_count": 6
    }
   ],
   "source": [
    "faceDetect()"
   ]
  },
  {
   "cell_type": "code",
   "execution_count": null,
   "metadata": {},
   "outputs": [],
   "source": []
  }
 ]
}