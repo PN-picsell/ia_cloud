{
 "cells": [
  {
   "cell_type": "code",
   "execution_count": 53,
   "metadata": {},
   "outputs": [
    {
     "name": "stdout",
     "output_type": "stream",
     "text": [
      "[[333  86  67  67]\n",
      " [521 118  57  57]]\n"
     ]
    },
    {
     "data": {
      "text/plain": [
       "-1"
      ]
     },
     "execution_count": 53,
     "metadata": {},
     "output_type": "execute_result"
    }
   ],
   "source": [
    "import cv2\n",
    "from PIL import Image, ImageDraw, ImageFont\n",
    "b,g,r,a = 0,255,0,0\n",
    "\n",
    "font = ImageFont.truetype(\"arial.ttf\", 18)\n",
    "\n",
    "\n",
    "face_cascade = cv2.CascadeClassifier('faces.xml')\n",
    "\n",
    "img = cv2.imread('bleu.jpg')\n",
    "\n",
    "gray = cv2.cvtColor(img, cv2.COLOR_BGR2GRAY)\n",
    "\n",
    "\n",
    "# font \n",
    "font = cv2.FONT_HERSHEY_SIMPLEX \n",
    "  \n",
    "# org \n",
    "org = (50, 50) \n",
    "  \n",
    "# fontScale \n",
    "fontScale = 1\n",
    "   \n",
    "# Blue color in BGR \n",
    "blue = (255, 0, 0) \n",
    "  \n",
    "# Line thickness of 2 px \n",
    "thickness = 2\n",
    "\n",
    "\n",
    "faces = face_cascade.detectMultiScale(gray, 1.1, 4)\n",
    "print(faces)\n",
    "\n",
    "\n",
    "for (x, y, w, h) in faces:\n",
    "    pos = \"x : {} , y : {}\".format(x, y)\n",
    "    cv2.rectangle(img, (x, y), (x+w, y+h), blue, 2)\n",
    "    cv2.putText(img, pos , (x-10, y-10),  font, 0.75, (255,75,0), 2, cv2.LINE_AA, False)\n",
    "\n",
    "    \n",
    "cv2.imshow('img', img)\n",
    "cv2.waitKey()"
   ]
  },
  {
   "cell_type": "code",
   "execution_count": null,
   "metadata": {},
   "outputs": [],
   "source": []
  }
 ],
 "metadata": {
  "kernelspec": {
   "display_name": "Python 3",
   "language": "python",
   "name": "python3"
  },
  "language_info": {
   "codemirror_mode": {
    "name": "ipython",
    "version": 3
   },
   "file_extension": ".py",
   "mimetype": "text/x-python",
   "name": "python",
   "nbconvert_exporter": "python",
   "pygments_lexer": "ipython3",
   "version": "3.8.3"
  }
 },
 "nbformat": 4,
 "nbformat_minor": 4
}
